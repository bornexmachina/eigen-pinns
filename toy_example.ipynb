{
 "cells": [
  {
   "cell_type": "code",
   "execution_count": 1,
   "id": "8765e4b0",
   "metadata": {},
   "outputs": [],
   "source": [
    "import numpy as np\n",
    "import torch\n",
    "import torch.nn as nn\n",
    "import torch.optim as optim\n",
    "import math\n",
    "from scipy import linalg"
   ]
  },
  {
   "cell_type": "code",
   "execution_count": 9,
   "id": "674d4f77",
   "metadata": {},
   "outputs": [],
   "source": [
    "# Convert to torch tensors (double precision for better numerical stability)\n",
    "torch.set_default_dtype(torch.double)\n",
    "device = torch.device(\"cuda\" if torch.cuda.is_available() else \"cpu\")"
   ]
  },
  {
   "cell_type": "code",
   "execution_count": 10,
   "id": "2632266e",
   "metadata": {},
   "outputs": [
    {
     "name": "stdout",
     "output_type": "stream",
     "text": [
      "Reference eigs: [0.038822 0.04345  0.107503]\n"
     ]
    }
   ],
   "source": [
    "####### inputs\n",
    "N, k = 20, 3  # toy size\n",
    "# random SPD matrices K, M\n",
    "A = np.random.randn(N, N)\n",
    "K = A.T @ A + np.eye(N)   # make SPD\n",
    "B = np.random.randn(N, N)\n",
    "M = B.T @ B + np.eye(N)   # make SPD\n",
    "\n",
    "K = torch.from_numpy(K).to(device)\n",
    "M = torch.from_numpy(M).to(device)\n",
    "\n",
    "# reference solution\n",
    "w_all, V_all = linalg.eigh(K.cpu().numpy(), M.cpu().numpy())\n",
    "print(\"Reference eigs:\", np.round(w_all[:k], 6))\n",
    "\n",
    "\n",
    "X = torch.randn(N, 3, device=device)\n"
   ]
  },
  {
   "cell_type": "code",
   "execution_count": 11,
   "id": "43e7b497",
   "metadata": {},
   "outputs": [],
   "source": [
    "# Build the neural network that maps coordinates -> k outputs per node\n",
    "class MLP(nn.Module):\n",
    "    def __init__(self, in_dim=3, out_dim=k, hidden=[64,64]):\n",
    "        super().__init__()\n",
    "        layers = []\n",
    "        last = in_dim\n",
    "        for h in hidden:\n",
    "            layers.append(nn.Linear(last, h, dtype=torch.double))\n",
    "            layers.append(nn.Tanh())\n",
    "            last = h\n",
    "        layers.append(nn.Linear(last, out_dim, dtype=torch.double))\n",
    "        self.net = nn.Sequential(*layers)\n",
    "\n",
    "    def forward(self, x):\n",
    "        return self.net(x)  # returns (N, k)\n",
    "\n",
    "# Instantiate model and optimizer\n",
    "model = MLP().to(device)\n",
    "# initialize final layer small\n",
    "for name, p in model.named_parameters():\n",
    "    if p.dim() > 1:\n",
    "        nn.init.xavier_uniform_(p)\n",
    "\n",
    "optimizer = optim.Adam(model.parameters(), lr=1e-3)"
   ]
  },
  {
   "cell_type": "code",
   "execution_count": 12,
   "id": "b1c29a35",
   "metadata": {},
   "outputs": [],
   "source": [
    "max_epochs = 20_000\n",
    "print_every = 1_000\n",
    "loss_history = []"
   ]
  },
  {
   "cell_type": "code",
   "execution_count": 13,
   "id": "bab04a9a",
   "metadata": {},
   "outputs": [
    {
     "name": "stdout",
     "output_type": "stream",
     "text": [
      "Epoch 1, total loss=127817.437666, approx eigs=[ 51.088554 211.408096  28.488013]\n",
      "Epoch 1000, total loss=1.662506, approx eigs=[0.275045 0.529916 0.371402]\n",
      "Epoch 2000, total loss=1.440070, approx eigs=[0.349602 0.323025 0.364361]\n",
      "Epoch 3000, total loss=1.286200, approx eigs=[0.381656 0.160491 0.398815]\n",
      "Epoch 4000, total loss=1.204613, approx eigs=[0.374709 0.129392 0.39727 ]\n",
      "Epoch 5000, total loss=1.125359, approx eigs=[0.365145 0.114234 0.400342]\n",
      "Epoch 6000, total loss=1.037831, approx eigs=[0.348379 0.108926 0.390713]\n",
      "Epoch 7000, total loss=0.908253, approx eigs=[0.327004 0.111241 0.335865]\n",
      "Epoch 8000, total loss=0.795810, approx eigs=[0.30635  0.112973 0.278949]\n",
      "Epoch 9000, total loss=0.680712, approx eigs=[0.283244 0.105867 0.21661 ]\n",
      "Epoch 10000, total loss=0.552890, approx eigs=[0.246269 0.089027 0.168017]\n",
      "Epoch 11000, total loss=0.466922, approx eigs=[0.204893 0.077492 0.149893]\n",
      "Epoch 12000, total loss=0.397425, approx eigs=[0.161452 0.075962 0.134588]\n",
      "Epoch 13000, total loss=0.272133, approx eigs=[0.087897 0.067644 0.108501]\n",
      "Epoch 14000, total loss=0.209710, approx eigs=[0.049799 0.063863 0.091797]\n",
      "Epoch 15000, total loss=0.209234, approx eigs=[0.04342  0.060514 0.088596]\n",
      "Epoch 16000, total loss=0.208793, approx eigs=[0.04299  0.061509 0.085954]\n",
      "Epoch 17000, total loss=0.206493, approx eigs=[0.041047 0.06064  0.086379]\n",
      "Epoch 18000, total loss=0.206445, approx eigs=[0.041849 0.060556 0.086892]\n",
      "Epoch 19000, total loss=0.254342, approx eigs=[0.050928 0.061261 0.122118]\n",
      "Epoch 20000, total loss=0.219923, approx eigs=[0.043865 0.059259 0.109439]\n"
     ]
    }
   ],
   "source": [
    "for epoch in range(1, max_epochs+1):\n",
    "    optimizer.zero_grad()\n",
    "    U = model(X)  # N x k\n",
    "\n",
    "    # losses\n",
    "    B = U.T @ (M @ U)        # k x k\n",
    "    orth_loss = torch.norm(B - torch.eye(k, device=device))**2\n",
    "    eig_loss = torch.trace(U.T @ (K @ U))\n",
    "\n",
    "    loss = eig_loss + orth_loss\n",
    "    loss.backward()\n",
    "    optimizer.step()\n",
    "\n",
    "    if epoch % print_every == 0 or epoch == 1:\n",
    "        approx_vals = torch.diag(U.T @ (K @ U)).detach().cpu().numpy()\n",
    "        print(f\"Epoch {epoch}, total loss={loss.item():.6f}, approx eigs={np.round(approx_vals,6)}\")\n"
   ]
  },
  {
   "cell_type": "code",
   "execution_count": 14,
   "id": "d54bcf72",
   "metadata": {},
   "outputs": [
    {
     "name": "stdout",
     "output_type": "stream",
     "text": [
      "\n",
      "Learned Ritz values: [0.042169 0.049199 0.121183]\n",
      "Reference eigs:      [0.038822 0.04345  0.107503]\n"
     ]
    }
   ],
   "source": [
    "# ==== Final result ====\n",
    "with torch.no_grad():\n",
    "    U_final = model(X)\n",
    "    UKU = U_final.T @ (K @ U_final)\n",
    "    mu, _ = torch.linalg.eigh(UKU)\n",
    "    print(\"\\nLearned Ritz values:\", np.round(mu.cpu().numpy(), 6))\n",
    "    print(\"Reference eigs:     \", np.round(w_all[:k], 6))"
   ]
  },
  {
   "cell_type": "code",
   "execution_count": null,
   "id": "513fbe4b",
   "metadata": {},
   "outputs": [],
   "source": []
  },
  {
   "cell_type": "code",
   "execution_count": null,
   "id": "e7c3e125",
   "metadata": {},
   "outputs": [],
   "source": []
  },
  {
   "cell_type": "code",
   "execution_count": null,
   "id": "04db2219",
   "metadata": {},
   "outputs": [],
   "source": []
  }
 ],
 "metadata": {
  "kernelspec": {
   "display_name": "deltapinns",
   "language": "python",
   "name": "python3"
  },
  "language_info": {
   "codemirror_mode": {
    "name": "ipython",
    "version": 3
   },
   "file_extension": ".py",
   "mimetype": "text/x-python",
   "name": "python",
   "nbconvert_exporter": "python",
   "pygments_lexer": "ipython3",
   "version": "3.10.12"
  }
 },
 "nbformat": 4,
 "nbformat_minor": 5
}
