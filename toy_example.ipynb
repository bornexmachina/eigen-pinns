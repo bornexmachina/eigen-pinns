{
 "cells": [
  {
   "cell_type": "code",
   "execution_count": 1,
   "id": "8765e4b0",
   "metadata": {},
   "outputs": [],
   "source": [
    "import numpy as np\n",
    "import torch\n",
    "import torch.nn as nn\n",
    "import torch.optim as optim\n",
    "from scipy import linalg"
   ]
  },
  {
   "cell_type": "code",
   "execution_count": 2,
   "id": "674d4f77",
   "metadata": {},
   "outputs": [],
   "source": [
    "# Convert to torch tensors (double precision for better numerical stability)\n",
    "torch.set_default_dtype(torch.double)\n",
    "device = torch.device(\"cuda\" if torch.cuda.is_available() else \"cpu\")"
   ]
  },
  {
   "cell_type": "code",
   "execution_count": 12,
   "id": "2632266e",
   "metadata": {},
   "outputs": [
    {
     "name": "stdout",
     "output_type": "stream",
     "text": [
      "Reference eigs: [0.037543 0.084728 0.098262]\n"
     ]
    }
   ],
   "source": [
    "####### inputs\n",
    "N, k = 20, 3  # toy size\n",
    "# random SPD matrices K, M\n",
    "A = np.random.randn(N, N)\n",
    "K = A.T @ A + np.eye(N)   # make SPD\n",
    "B = np.random.randn(N, N)\n",
    "M = B.T @ B + np.eye(N)   # make SPD\n",
    "\n",
    "K = torch.from_numpy(K).to(device)\n",
    "M = torch.from_numpy(M).to(device)\n",
    "\n",
    "# reference solution\n",
    "w_all, V_all = linalg.eigh(K.cpu().numpy(), M.cpu().numpy())\n",
    "print(\"Reference eigs:\", np.round(w_all[:k], 6))\n",
    "\n",
    "\n",
    "X = torch.randn(N, 3, device=device)\n"
   ]
  },
  {
   "cell_type": "code",
   "execution_count": 13,
   "id": "43e7b497",
   "metadata": {},
   "outputs": [],
   "source": [
    "# Build the neural network that maps coordinates -> k outputs per node\n",
    "class MLP(nn.Module):\n",
    "    def __init__(self, in_dim=3, out_dim=k, hidden=[64,64]):\n",
    "        super().__init__()\n",
    "        layers = []\n",
    "        last = in_dim\n",
    "        for h in hidden:\n",
    "            layers.append(nn.Linear(last, h, dtype=torch.double))\n",
    "            layers.append(nn.ReLU())\n",
    "            last = h\n",
    "        layers.append(nn.Linear(last, out_dim, dtype=torch.double))\n",
    "        self.net = nn.Sequential(*layers)\n",
    "\n",
    "    def forward(self, x):\n",
    "        return self.net(x)  # returns (N, k)\n",
    "\n",
    "# Instantiate model and optimizer\n",
    "model = MLP().to(device)\n",
    "# initialize final layer small\n",
    "for name, p in model.named_parameters():\n",
    "    if p.dim() > 1:\n",
    "        nn.init.xavier_uniform_(p)\n",
    "\n",
    "optimizer = optim.Adam(model.parameters(), lr=1e-3)"
   ]
  },
  {
   "cell_type": "code",
   "execution_count": 14,
   "id": "b1c29a35",
   "metadata": {},
   "outputs": [],
   "source": [
    "max_epochs = 20_000\n",
    "print_every = 1_000\n",
    "loss_history = []"
   ]
  },
  {
   "cell_type": "code",
   "execution_count": 15,
   "id": "bab04a9a",
   "metadata": {},
   "outputs": [
    {
     "name": "stdout",
     "output_type": "stream",
     "text": [
      "Epoch 1, total loss=5466.097885, approx eigs=[44.427397 79.294931 14.539985]\n",
      "Epoch 1000, total loss=0.526866, approx eigs=[0.171939 0.129668 0.196167]\n",
      "Epoch 2000, total loss=0.321120, approx eigs=[0.088562 0.100317 0.117696]\n",
      "Epoch 3000, total loss=0.253002, approx eigs=[0.063946 0.088924 0.092041]\n",
      "Epoch 4000, total loss=0.225534, approx eigs=[0.053354 0.078629 0.087767]\n",
      "Epoch 5000, total loss=0.217493, approx eigs=[0.052289 0.073736 0.086535]\n",
      "Epoch 6000, total loss=0.216043, approx eigs=[0.052555 0.072592 0.086272]\n",
      "Epoch 7000, total loss=0.215973, approx eigs=[0.052647 0.072499 0.086261]\n",
      "Epoch 8000, total loss=0.215972, approx eigs=[0.052656 0.072498 0.086257]\n",
      "Epoch 9000, total loss=0.215975, approx eigs=[0.052659 0.072471 0.086223]\n",
      "Epoch 10000, total loss=0.216033, approx eigs=[0.052759 0.072441 0.086297]\n",
      "Epoch 11000, total loss=0.215972, approx eigs=[0.052805 0.072447 0.086164]\n",
      "Epoch 12000, total loss=0.216176, approx eigs=[0.05302  0.072477 0.086047]\n",
      "Epoch 13000, total loss=0.217194, approx eigs=[0.053556 0.072429 0.085869]\n",
      "Epoch 14000, total loss=0.220299, approx eigs=[0.057968 0.071115 0.086412]\n",
      "Epoch 15000, total loss=0.216586, approx eigs=[0.054786 0.071988 0.08519 ]\n",
      "Epoch 16000, total loss=0.219845, approx eigs=[0.056575 0.071746 0.086132]\n",
      "Epoch 17000, total loss=0.231474, approx eigs=[0.065375 0.07388  0.085995]\n",
      "Epoch 18000, total loss=0.220629, approx eigs=[0.059752 0.071001 0.085141]\n",
      "Epoch 19000, total loss=0.216125, approx eigs=[0.056734 0.071034 0.083855]\n",
      "Epoch 20000, total loss=0.220713, approx eigs=[0.060707 0.070321 0.084589]\n"
     ]
    }
   ],
   "source": [
    "for epoch in range(1, max_epochs+1):\n",
    "    optimizer.zero_grad()\n",
    "    U = model(X)  # N x k\n",
    "\n",
    "    # losses\n",
    "    B = U.T @ (M @ U)        # k x k\n",
    "    orth_loss = torch.norm(B - torch.eye(k, device=device))**2\n",
    "    eig_loss = torch.trace(U.T @ (K @ U))\n",
    "\n",
    "    loss = eig_loss + orth_loss\n",
    "    loss.backward()\n",
    "    optimizer.step()\n",
    "\n",
    "    if epoch % print_every == 0 or epoch == 1:\n",
    "        approx_vals = torch.diag(U.T @ (K @ U)).detach().cpu().numpy()\n",
    "        print(f\"Epoch {epoch}, total loss={loss.item():.6f}, approx eigs={np.round(approx_vals,6)}\")\n"
   ]
  },
  {
   "cell_type": "code",
   "execution_count": 16,
   "id": "d54bcf72",
   "metadata": {},
   "outputs": [
    {
     "name": "stdout",
     "output_type": "stream",
     "text": [
      "\n",
      "Learned Ritz values: [0.040365 0.082175 0.093786]\n",
      "Reference eigs:      [0.037543 0.084728 0.098262]\n"
     ]
    }
   ],
   "source": [
    "# ==== Final result ====\n",
    "with torch.no_grad():\n",
    "    U_final = model(X)\n",
    "    UKU = U_final.T @ (K @ U_final)\n",
    "    mu, _ = torch.linalg.eigh(UKU)\n",
    "    print(\"\\nLearned Ritz values:\", np.round(mu.cpu().numpy(), 6))\n",
    "    print(\"Reference eigs:     \", np.round(w_all[:k], 6))"
   ]
  },
  {
   "cell_type": "code",
   "execution_count": null,
   "id": "513fbe4b",
   "metadata": {},
   "outputs": [],
   "source": []
  },
  {
   "cell_type": "code",
   "execution_count": null,
   "id": "e7c3e125",
   "metadata": {},
   "outputs": [],
   "source": []
  },
  {
   "cell_type": "code",
   "execution_count": null,
   "id": "04db2219",
   "metadata": {},
   "outputs": [],
   "source": []
  }
 ],
 "metadata": {
  "kernelspec": {
   "display_name": "deltapinns",
   "language": "python",
   "name": "python3"
  },
  "language_info": {
   "codemirror_mode": {
    "name": "ipython",
    "version": 3
   },
   "file_extension": ".py",
   "mimetype": "text/x-python",
   "name": "python",
   "nbconvert_exporter": "python",
   "pygments_lexer": "ipython3",
   "version": "3.10.12"
  }
 },
 "nbformat": 4,
 "nbformat_minor": 5
}
